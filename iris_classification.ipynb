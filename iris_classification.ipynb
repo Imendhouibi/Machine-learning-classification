{
 "cells": [
  {
   "cell_type": "code",
   "execution_count": 1,
   "id": "3043ea2e",
   "metadata": {},
   "outputs": [
    {
     "name": "stderr",
     "output_type": "stream",
     "text": [
      "C:\\Users\\ASUS\\anaconda3\\lib\\site-packages\\numpy\\_distributor_init.py:30: UserWarning: loaded more than 1 DLL from .libs:\n",
      "C:\\Users\\ASUS\\anaconda3\\lib\\site-packages\\numpy\\.libs\\libopenblas.QVLO2T66WEPI7JZ63PS3HMOHFEY472BC.gfortran-win_amd64.dll\n",
      "C:\\Users\\ASUS\\anaconda3\\lib\\site-packages\\numpy\\.libs\\libopenblas.WCDJNK7YVMPZQ2ME2ZZHJJRJ3JIKNDB7.gfortran-win_amd64.dll\n",
      "  warnings.warn(\"loaded more than 1 DLL from .libs:\"\n"
     ]
    },
    {
     "name": "stdout",
     "output_type": "stream",
     "text": [
      "1.0\n",
      "1.0\n"
     ]
    }
   ],
   "source": [
    "import numpy as np\n",
    "import pandas as pd\n",
    "import matplotlib.pyplot as plt\n",
    "\n",
    "iris_data=pd.read_csv('iris.csv')\n",
    "\n",
    "colnames=list(iris_data.columns)\n",
    "predictors=colnames[0:4]\n",
    "target=colnames[4]\n",
    "\n",
    "from sklearn.model_selection import train_test_split\n",
    "train,test=train_test_split(iris_data,test_size=0.2,random_state=0)\n",
    "\n",
    "from sklearn.tree import DecisionTreeClassifier as DS\n",
    "#model=DS(criterion='gini')\n",
    "model=DS(criterion='entropy')\n",
    "\n",
    "model.fit(train[predictors],train[target])\n",
    "train_pred=model.predict(train[predictors])\n",
    "test_pred=model.predict(test[predictors])\n",
    "#pd.crosstab(test_pred,test[target])\n",
    "\n",
    "train_acc=np.mean(train_pred==train[target])\n",
    "print(train_acc)\n",
    "\n",
    "test_acc=np.mean(test_pred==test[target])\n",
    "print(test_acc)\n"
   ]
  },
  {
   "cell_type": "code",
   "execution_count": null,
   "id": "53b069bb",
   "metadata": {},
   "outputs": [],
   "source": []
  }
 ],
 "metadata": {
  "kernelspec": {
   "display_name": "Python 3",
   "language": "python",
   "name": "python3"
  },
  "language_info": {
   "codemirror_mode": {
    "name": "ipython",
    "version": 3
   },
   "file_extension": ".py",
   "mimetype": "text/x-python",
   "name": "python",
   "nbconvert_exporter": "python",
   "pygments_lexer": "ipython3",
   "version": "3.8.8"
  }
 },
 "nbformat": 4,
 "nbformat_minor": 5
}
